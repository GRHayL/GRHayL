{
 "cells": [
  {
   "cell_type": "markdown",
   "metadata": {},
   "source": [
    "<script async src=\"https://www.googletagmanager.com/gtag/js?id=UA-59152712-8\"></script>\n",
    "<script>\n",
    "  window.dataLayer = window.dataLayer || [];\n",
    "  function gtag(){dataLayer.push(arguments);}\n",
    "  gtag('js', new Date());\n",
    "\n",
    "  gtag('config', 'UA-59152712-8');\n",
    "</script>\n",
    "\n",
    "# Computing conservatives and $T^{\\mu\\nu}$ from primitives\n",
    "\n",
    "## Authors: Leo Werneck, Zach Etienne, and Samuel Cupp\n",
    "\n",
    "<font color='red'>**This module is currently under development**</font>\n",
    "\n",
    "### Required and recommended citations:\n",
    "* **(Required)** GRHayL (TBD)\n",
    "* **(Required)** [Etienne, Paschalidis, Haas, Mösta, and Shapiro. IllinoisGRMHD: an open-source, user-friendly GRMHD code for dynamical spacetimes (2015)](http://arxiv.org/abs/1501.07276).\n",
    "* **(Recommended)** [Duez, Liu, Shapiro, and Stephens. Relativistic Magnetohydrodynamics In Dynamical Spacetimes: Numerical Methods And Tests (2005)](https://arxiv.org/abs/astro-ph/0503420)"
   ]
  },
  {
   "cell_type": "markdown",
   "metadata": {},
   "source": [
    "<a id='toc'></a>\n",
    "\n",
    "# Table of Contents\n",
    "$$\\label{toc}$$\n",
    "\n",
    "This module is organized as follows\n",
    "\n",
    "1. [**Introduction**](#introduction)\n",
    "1. [**The `compute_conservs_and_Tmunu` function**](#compute_conservs_and_Tmunu)\n",
    "    1. [*Function Arguments*](#fargs)\n",
    "        1. [Inputs](#inputs)\n",
    "        1. [Outputs](#outputs)\n",
    "    1. [*Computing the Conservatives*](#compute_conservs)\n",
    "    1. [*Computing $T^{\\mu\\nu}$*](#compute_tmunu)"
   ]
  },
  {
   "cell_type": "markdown",
   "metadata": {},
   "source": [
    "<a id='introduction'></a>\n",
    "\n",
    "# Introduction \\[Back to [top](#toc)\\]\n",
    "$$\\label{introduction}$$\n",
    "\n",
    "For consistency between primitives and conservatives (or anywhere else where the conservatives need to be computed from the primitives), the `compute_conservs_and_Tmunu` function provides this functionality. It also computes the stress-energy tensor $T^{\\mu\\nu}$ depending on input parameters. The `enforce_primitive_limits_and_compute_u0` [function](enforce_primitive_limits_and_compute_u0.ipynb) naturally precedes this one, as it applies various limits to the primitives and computes the zeroth component of the 4-velocity $u^0$, which is needed by this function. If the function is being run without `enforce_primitive_limits_and_compute_u0`, the `limit_v_and_compute_u0` function (TODO: link to doc) will directly provide the needed $u^0$."
   ]
  },
  {
   "cell_type": "markdown",
   "metadata": {},
   "source": [
    "<a id='compute_conservs_and_Tmunu'></a>\n",
    "\n",
    "# The `compute_conservs_and_Tmunu` function \\[Back to [top](#toc)\\]\n",
    "$$\\label{compute_conservs_and_Tmunu}$$\n",
    "\n",
    "<a id='fargs'></a>\n",
    "\n",
    "## Function Arguments \\[Back to [top](#toc)\\]\n",
    "$$\\label{fargs}$$\n",
    "\n",
    "First, let's look at the arguments of `compute_conservs_and_Tmunu`:\n",
    "```\n",
    "void compute_conservs_and_Tmunu(\n",
    "      const ghl_parameters *restrict params,\n",
    "      const metric_quantities *restrict metric,\n",
    "      const primitive_quantities *restrict prims,\n",
    "      conservative_quantities *restrict cons,\n",
    "      stress_energy *restrict Tmunu)\n",
    "```\n",
    "\n",
    "<a id='inputs'></a>\n",
    "\n",
    "### Inputs\n",
    "$$\\label{inputs}$$\n",
    "\n",
    "\n",
    "The parameter used from `params` is `update_Tmunu`, which controls whether $T^{\\mu\\nu}$ is actually computed.\n",
    "\n",
    "The metric quantities used from `metric` are the lapse `lapse`, shift (`betax`, `betay`, `betaz`), ADM metric (`adm_gxx`, `adm_gxy`, etc.), inverse metric (`adm_gupxx`, `adm_gupxy`, etc.), 4-metric `g4dn`, inverse lapse `lapseinv` $\\left(\\alpha^{-1}\\right)$, inverse lapse squared `lapseinv2` $\\left(\\alpha^{-2}\\right)$, and conformal factor quantity `psi6` ($\\psi^6$). Since auxiliary quantities are used, we recommend use either `GRHayL_enforce_detgtij_and_initialize_metric` or `initialize_metric` to automatically compute these quantities from the ADM quantities.\n",
    "\n",
    "The primitive quantities used from `prims` are the baryonic density `rho`, pressure `press`, epsilon `eps`, zeroth component of the 4-velocity `u0` ($u^0$), 3-velocity (`vx`, `vy`, `vz`), and the magnetic quantities (`Bx`, `By`, `Bz`). In addition, `entropy` and `Y_e` are used if these conservatives are being used.\n",
    "\n",
    "<a id='outputs'></a>\n",
    "\n",
    "### Outputs\n",
    "$$\\label{outputs}$$\n",
    "\n",
    "The struct `cons` contains the conservative outputs: densitized density $\\tilde{\\rho}$ (`rho`), densitized energy variable `tau`, and the densitized momentum (`S_x`, `S_y`, `S_z`), the densitized entropy `entropy`, and the densitized electron fraction `Y_e`.\n",
    "\n",
    "The struct `Tmunu` contains the stress-energy tensor (if `update_Tmunu` is true)."
   ]
  },
  {
   "cell_type": "markdown",
   "metadata": {},
   "source": [
    "<a id='compute_conservs'></a>\n",
    "\n",
    "## Computing the Conservatives \\[Back to [top](#toc)\\]\n",
    "$$\\label{compute_conservs}$$\n",
    "\n",
    "To compute the conservatives, we first compute a handful of intermediate quantities. We compute the enthalpy\n",
    "\n",
    "$$\n",
    "h = 1 + \\epsilon + \\frac{P}{\\rho_b}\n",
    "$$\n",
    "\n",
    "and the remainder of the 4-velocity using\n",
    "\n",
    "$$\n",
    "u^i = u^0 v^i\n",
    "$$\n",
    "\n",
    "We use the helper function `lower_vector` to find $u_\\mu$. We then compute\n",
    "$$b^\\mu\\equiv \\frac{B^i_u}{\\sqrt{4 \\pi}}$$\n",
    "(Eq. 31 of https://arxiv.org/abs/astro-ph/0503420) and $b^2$ using the function `compute_smallb_and_b2` (TODO: link to doc). We also compute $b_\\mu$, again using `lower_vector`. We after precomputing some intermediate quantities, we're ready to compute the conservatives. These are given by the equations\n",
    "\n",
    "$$\n",
    "\\tilde{\\rho} = \\alpha\\sqrt{\\gamma} \\rho_b u^0\n",
    "$$\n",
    "$$\n",
    "\\tilde{S}_i = h \\tilde{\\rho} u_i + \\alpha\\sqrt{\\gamma} \\left( u^0 b^2 u_i - b^0 b_i \\right)\n",
    "$$\n",
    "\n",
    "$$\n",
    "\\tilde{\\tau} = \\alpha^2\\sqrt{\\gamma}\\left( (\\rho_b h + b^2)\\left(u^0\\right)^2 - \\frac{\\left(P+\\frac{b^2}{2}\\right)}{\\alpha^2} - \\left(b^0\\right)^2 - \\tilde{\\rho} \\right)\n",
    "$$"
   ]
  },
  {
   "cell_type": "markdown",
   "metadata": {},
   "source": [
    "<a id='compute_tmunu'></a>\n",
    "\n",
    "## Computing $T^{\\mu\\nu}$ \\[Back to [top](#toc)\\]\n",
    "$$\\label{compute_tmunu}$$\n",
    "\n",
    "While GRHayL does provide the `compute_TUPmunu` function (TODO: link to doc) to directly compute $T^{\\mu\\nu}$, this would recalculate a large number of quantities already computed for the conservatives. The only lines we need from that function are the ones that actually calculate the stress-energy components from the intermediate quantities we already have. The stress-energy tensor is given by\n",
    "\n",
    "$$\n",
    "T^{\\mu\\nu} = (\\rho_b h + b^2)u_\\mu u_\\nu + \\left(P+\\frac{b^2}{2}\\right)g_{\\mu\\nu} -b_\\mu b_\\nu\n",
    "$$"
   ]
  }
 ],
 "metadata": {
  "kernelspec": {
   "display_name": "Python 3 (ipykernel)",
   "language": "python",
   "name": "python3"
  },
  "language_info": {
   "codemirror_mode": {
    "name": "ipython",
    "version": 3
   },
   "file_extension": ".py",
   "mimetype": "text/x-python",
   "name": "python",
   "nbconvert_exporter": "python",
   "pygments_lexer": "ipython3",
   "version": "3.10.4"
  }
 },
 "nbformat": 4,
 "nbformat_minor": 2
}
