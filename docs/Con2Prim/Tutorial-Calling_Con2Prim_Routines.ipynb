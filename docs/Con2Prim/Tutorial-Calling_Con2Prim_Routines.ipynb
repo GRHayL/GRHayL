{
 "cells": [
  {
   "cell_type": "markdown",
   "metadata": {},
   "source": [
    "<script async src=\"https://www.googletagmanager.com/gtag/js?id=UA-59152712-8\"></script>\n",
    "<script>\n",
    "  window.dataLayer = window.dataLayer || [];\n",
    "  function gtag(){dataLayer.push(arguments);}\n",
    "  gtag('js', new Date());\n",
    "\n",
    "  gtag('config', 'UA-59152712-8');\n",
    "</script>\n",
    "\n",
    "# Calling Con2Prim Routines\n",
    "\n",
    "## Authors: Samuel Cupp, Leo Werneck, and Zach Etienne\n",
    "\n",
    "<font color='red'>**This module is currently under development**</font>\n",
    "\n",
    "## In this tutorial module we explain the various methods for calling the provided conservative-to-primitive routines.\n",
    "\n",
    "### Required and recommended citations:\n",
    "\n",
    "* **(Required)** GRHayL (TBD)\n",
    "* **(Required)** [Etienne, Paschalidis, Haas, Mösta, and Shapiro. IllinoisGRMHD: an open-source, user-friendly GRMHD code for dynamical spacetimes (2015)](http://arxiv.org/abs/1501.07276).\n",
    "* **(Recommended)** [Noble, Gammie, McKinney, Del Zanna. Primitive Variable Solvers for Conservative General Relativistic Magnetohydrodynamics (2006)](https://arxiv.org/abs/astro-ph/0512420)."
   ]
  },
  {
   "cell_type": "markdown",
   "metadata": {},
   "source": [
    "<a id='toc'></a>\n",
    "\n",
    "# Table of Contents\n",
    "$$\\label{toc}$$\n",
    "\n",
    "This module is organized as follows\n",
    "\n",
    "1. [**Introduction**](#introduction)\n",
    "1. [**Calling Con2Prim routines**](#c2p_routines)\n",
    "1. [**Provided Con2Prim Methods**](c2p_methods)\n",
    "    1. [*Hybrid EOS Methods*](#hybrid_eos)\n",
    "    1. [*Tabulated EOS Methods*](#tabulated_eos)\n",
    "    1. [*The `Multi_Method` Functions*](#multi_method)\n",
    "    1. [*The `Select_Method` Functions*](#select_method)"
   ]
  },
  {
   "cell_type": "markdown",
   "metadata": {},
   "source": [
    "<a id='introduction'></a>\n",
    "\n",
    "# Introduction \\[Back to [top](#toc)\\]\n",
    "$$\\label{introduction}$$\n",
    "\n",
    "GRHayL provides a variety of conservative-to-primitive (C2P) algorithms. These can be directly used, and the `Hybrid_Select_Method` function provides the ability to switch between C2P methods at runtime. The `Hybrid_Multi_Method` function uses `Hybrid_Select_Method` and allows for up to 3 C2P methods to serve as backup methods if the preceeding methods fail."
   ]
  },
  {
   "cell_type": "markdown",
   "metadata": {},
   "source": [
    "<a id='c2p_routines'></a>\n",
    "\n",
    "# Calling Con2Prim routines \\[Back to [top](#toc)\\]\n",
    "$$\\label{c2p_routines}$$\n",
    "\n",
    "First, let's look at the argument list which is shared by all conservative-to-primitive routines:\n",
    "\n",
    "```\n",
    "int Hybrid_Multi_Method(\n",
    "      const GRHayL_parameters *restrict params,\n",
    "      const eos_parameters *restrict eos,\n",
    "      const metric_quantities *restrict metric,\n",
    "      const conservative_quantities *restrict cons,\n",
    "      const primitive_quantities *restrict prims,\n",
    "      primitive_quantities *restrict prims_guess,\n",
    "      con2prim_diagnostics *restrict diagnostics)\n",
    "```\n",
    "The first two arguments appear in most GRHayL functions and contain information on the simulation and equation-of-state parameters. The next struct contains (pointwise) information on the metric. Whenever packing the metric struct, we recommend using the function `GRHayL_enforce_detgtij_and_initialize_metric`, which also enforces that the determinant of the conformal metric equals one. GRHayL functions may behave unpredictably with abnormal metrics, as they have not been tested as rigorously outside the expected input ranges. The conservative_quantities input contains the **undensitized** conservative variables. Since evolving densitized variables is quite common, we provide the `undensitize_conservatives` function (TODO: link) which takes a struct containing densitized variables and packs a new struct with undensitized quantities to serve as input for this function. The final input is the primitive_quantities struct `prims`, which must at least contain the $B^i$ variables.\n",
    "\n",
    "The outputted primitives are packed into the primitive_quantities struct `prims_guess`, which is also used as temporary storage for the initial guess for the method. If the parameter `params->calc_prim_guess` is true, then `prims_guess` is set by the `guess_primitives` function. Otherwise, the initial guess is set to whatever was provided via the `prims` input. The $B^i$ in `prims_guess` are always set equal to the $B^i$ in `prims`.\n",
    "\n",
    "These arguments are identical for all the C2P routines, so switching between individual routine functions is very simple."
   ]
  },
  {
   "cell_type": "markdown",
   "metadata": {},
   "source": [
    "<a id='c2p_methods'></a>\n",
    "\n",
    "# Provided Con2Prim Methods \\[Back to [top](#toc)\\]\n",
    "$$\\label{c2p_methods}$$\n",
    "\n",
    "<a id='hybrid_eos'></a>\n",
    "\n",
    "## Hybrid EOS Methods \\[Back to [top](#toc)\\]\n",
    "$$\\label{hybrid_eos}$$\n",
    "\n",
    "Currently, GRHayL supports the following methods for the Hybrid EOS:\n",
    "- Noble2D\n",
    "- Noble1D\n",
    "The Noble routines are detailed in (TODO: link). "
   ]
  },
  {
   "cell_type": "markdown",
   "metadata": {},
   "source": [
    "<a id='tabulated_eos'></a>\n",
    "\n",
    "## Tabulated EOS Methods \\[Back to [top](#toc)\\]\n",
    "$$\\label{tabulated_eos}$$\n",
    "\n",
    "Currently, GRHayL supports the following methods for the Tabulated EOS:\n",
    "- ?\n",
    "- ?\n",
    "The ? routines are detailed in (TODO: link)."
   ]
  },
  {
   "cell_type": "markdown",
   "metadata": {},
   "source": [
    "<a id='multi_method'></a>\n",
    "\n",
    "## The `Multi_Method` Functions \\[Back to [top](#toc)\\]\n",
    "$$\\label{multi_method}$$\n",
    "\n",
    "The `Hybrid_Multi_Method` function has the following structure\n",
    "```\n",
    "  set B^i in prims_guess\n",
    "  set other prims_guess quantities from either prims struct or guess_primitives()\n",
    "  call params->main_routine C2P function\n",
    "\n",
    "  if(C2p failed and backup 1 is set)\n",
    "    set other prims_guess quantities from either prims struct or guess_primitives()\n",
    "    call params->backup_routine[0] C2P function\n",
    "\n",
    "    if(C2p failed and backup 2 is set)\n",
    "      set other prims_guess quantities from either prims struct or guess_primitives()\n",
    "      call params->backup_routine[1] C2P function\n",
    "\n",
    "      if(C2p failed and backup 3 is set)\n",
    "        set other prims_guess quantities from either prims struct or guess_primitives()\n",
    "        call params->backup_routine[2] C2P function\n",
    "```\n",
    "If more backups are desired, the code inside `Hybrid_Multi_Method` can be copied directly into the function calling this one with as many tiered if statements as desired. The parameter in the GRHayL_parameters struct only allows for 3 values, so any additional options will have to be handled in-house by the user code.\n",
    "\n",
    "TODO: add tabulated_multi_method"
   ]
  },
  {
   "cell_type": "markdown",
   "metadata": {},
   "source": [
    "<a id='select_method'></a>\n",
    "\n",
    "## The `Select_Method` Functions \\[Back to [top](#toc)\\]\n",
    "$$\\label{select_method}$$\n",
    "\n",
    "The function which calls the C2P routines is `Hybrid_Select_Method`. It differs from all other C2P routines by a single argument\n",
    "```\n",
    "int Hybrid_Select_Method(const GRHayL_parameters *restrict params,\n",
    "                         const eos_parameters *restrict eos,\n",
    "                         const int c2p_key,\n",
    "                         const metric_quantities *restrict metric,\n",
    "                         const conservative_quantities *restrict cons,\n",
    "                         primitive_quantities *restrict prims,\n",
    "                         con2prim_diagnostics *restrict diagnostics )\n",
    "```\n",
    "This function simply consists of a switch statement that calls the C2P routine matching the additional argument `c2p_key`.\n",
    "\n",
    "TODO: add tabulated"
   ]
  }
 ],
 "metadata": {
  "kernelspec": {
   "display_name": "Python 3 (ipykernel)",
   "language": "python",
   "name": "python3"
  },
  "language_info": {
   "codemirror_mode": {
    "name": "ipython",
    "version": 3
   },
   "file_extension": ".py",
   "mimetype": "text/x-python",
   "name": "python",
   "nbconvert_exporter": "python",
   "pygments_lexer": "ipython3",
   "version": "3.10.4"
  }
 },
 "nbformat": 4,
 "nbformat_minor": 4
}
