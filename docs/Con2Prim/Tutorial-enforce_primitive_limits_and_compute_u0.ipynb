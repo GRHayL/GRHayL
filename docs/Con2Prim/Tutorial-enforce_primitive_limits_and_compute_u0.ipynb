{
 "cells": [
  {
   "cell_type": "markdown",
   "metadata": {},
   "source": [
    "<script async src=\"https://www.googletagmanager.com/gtag/js?id=UA-59152712-8\"></script>\n",
    "<script>\n",
    "  window.dataLayer = window.dataLayer || [];\n",
    "  function gtag(){dataLayer.push(arguments);}\n",
    "  gtag('js', new Date());\n",
    "\n",
    "  gtag('config', 'UA-59152712-8');\n",
    "</script>\n",
    "\n",
    "# Tutorial: enforce_primitive_limits_and_compute_u0.c\n",
    "\n",
    "## Authors: Leo Werneck, Zach Etienne, and Samuel Cupp\n",
    "\n",
    "<font color='red'>**This module is currently under development**</font>\n",
    "\n",
    "## In this tutorial module we explain the function `enforce_primitive_limits_and_compute_u0`. This function uses the GRHayL simulation and equation-of-state parameters along with the metric to enforce limits on the computed primitives. It also output $u^0$, which is an input for the function `compute_conservs_and_Tmunu`.\n",
    "\n",
    "### Required and recommended citations:\n",
    "\n",
    "* **(Required)** Etienne, Z. B., Paschalidis, V., Haas R., Mösta P., and Shapiro, S. L. IllinoisGRMHD: an open-source, user-friendly GRMHD code for dynamical spacetimes. Class. Quantum Grav. 32 (2015) 175009. ([arxiv:1501.07276](http://arxiv.org/abs/1501.07276)).\n",
    "* **(Required)** Noble, S. C., Gammie, C. F., McKinney, J. C., Del Zanna, L. Primitive Variable Solvers for Conservative General Relativistic Magnetohydrodynamics. Astrophysical Journal, 641, 626 (2006) ([astro-ph/0512420](https://arxiv.org/abs/astro-ph/0512420)).\n",
    "* **(Recommended)** Del Zanna, L., Bucciantini N., Londrillo, P. An efficient shock-capturing central-type scheme for multidimensional relativistic flows - II. Magnetohydrodynamics. A&A 400 (2) 397-413 (2003). DOI: 10.1051/0004-6361:20021641 ([astro-ph/0210618](https://arxiv.org/abs/astro-ph/0210618))."
   ]
  },
  {
   "cell_type": "markdown",
   "metadata": {},
   "source": [
    "<a id='toc'></a>\n",
    "\n",
    "# Table of Contents\n",
    "$$\\label{toc}$$\n",
    "\n",
    "This module is organized as follows\n",
    "\n",
    "1. [Step 1](#introduction): **Introduction**\n",
    "1. [Step 2](#enforce_limits_on_primitives_and_compute_u0): **The `enforce_limits_on_primitives_and_compute_u0` function**\n",
    "    1. [Step 2.a](#enforce_limits_on_primitives): *Enforcing physical limits on the primitive variables*\n",
    "        1. [Step 2.a.i](#hybrid_eos_limits): *Limits for the Hybrid EOS*\n",
    "        1. [Step 2.a.ii](#tabulated_eos_limits): *Limits for the Tabulated EOS*\n",
    "    1. [Step 2.b](#speed_limit_v): *Speed limit $v^i$ and compute $u^0$*"
   ]
  },
  {
   "cell_type": "markdown",
   "metadata": {},
   "source": [
    "<a id='introduction'></a>\n",
    "\n",
    "# Step 1: Introduction \\[Back to [top](#toc)\\]\n",
    "$$\\label{introduction}$$\n",
    "\n",
    "In this tutorial notebook we discuss how we adjust the primitive variables to enforce simulation limits after the primitives have been computed by a conservative-to-primitive routine.\n",
    "\n",
    "This function is usually used immediately after the new primitives have been computed, either by atmospheric reset or a conservative-to-primitive routine (e.g. TODO: link to multimethod). The outputs for this are also chosen so that the `compute_conservs_and_Tmunu` function can run afterwards with minimal additional computation."
   ]
  },
  {
   "cell_type": "markdown",
   "metadata": {},
   "source": [
    "<a id='enforce_limits_on_primitives_and_compute_u0'></a>\n",
    "\n",
    "# Step 2: `enforce_limits_on_primitives_and_compute_u0` function \\[Back to [top](#toc)\\]\n",
    "$$\\label{enforce_limits_on_primitives_and_compute_u0}$$\n",
    "\n",
    "First, let's look at the arguments of `enforce_primitive_limits_and_compute_u0`:\n",
    "```\n",
    "void enforce_primitive_limits_and_compute_u0(\n",
    "      const GRHayL_parameters *restrict params,\n",
    "      const eos_parameters *restrict eos,\n",
    "      const metric_quantities *restrict metric,\n",
    "      primitive_quantities *restrict prims,\n",
    "      int *restrict speed_limit)\n",
    "```\n",
    "The first two arguments appear in most GRHayL functions and contain information on the simulation and equation-of-state parameters. The next struct contains (pointwise) information on the metric. Whenever packing the metric struct, we recommend using the function `GRHayL_enforce_detgtij_and_initialize_metric`, which also enforces that the determinant of the conformal metric equals one. GRHayL functions may behave unpredictably with abnormal metrics, as they have not been tested as rigorously outside the expected input ranges. The final input is the primitive_quantities that the limits will be applied to.\n",
    "\n",
    "The outputs are a primitive_quantities struct containing the primitives that have had floor and ceiling limits applied. The zeroth component of the 4-velocity, $u^0$, is also computed and stored in `prims`. The integer `speed_limit` provides diagnostic information on whether or not speed limits were applied to the velocity."
   ]
  },
  {
   "cell_type": "markdown",
   "metadata": {},
   "source": [
    "<a id='enforce_limits_on_primitives'></a>\n",
    "\n",
    "## Step 2.a: Enforcing physical limits on the primitive variables \\[Back to [top](#toc)\\]\n",
    "$$\\label{enforce_limits_on_primitives}$$\n",
    "\n",
    "We first apply the simplest limits by enforcing that\n",
    "$$\\rho_\\mathrm{min} <= \\rho_b <= \\rho_\\mathrm{max}$$"
   ]
  },
  {
   "cell_type": "markdown",
   "metadata": {},
   "source": [
    "<a id='hybrid_eos_limits'></a>\n",
    "\n",
    "### Step 2.a.i: Limits for the Hybrid EOS \\[Back to [top](#toc)\\]\n",
    "$$\\label{hybrid_eos_limits}$$\n",
    "\n",
    "We then apply the limits on pressure. Since hybrid and tabulated EOS require different treatment, the code splits between the two. For hybrid EOS, if\n",
    "$$P < 0.9*P_\\mathrm{cold}$$\n",
    "then the pressure is floored to\n",
    "$$P = 0.9*P_\\mathrm{min}$$\n",
    "The factor of 0.9 helps with stability, as setting the condition to be exactly at P_cold can cause undesirable increases in the star pressure that behave better by allowing the pressure to fall slightly below P_cold.\n",
    "\n",
    "On the other end, the upper limit depends on the metric. If $\\psi^6$ is greater than the GRHayL parameter $\\psi^6_\\mathrm{threshold}$, then\n",
    "$$P_\\mathrm{max} = 1e5*P_\\mathrm{cold}$$\n",
    "Otherwise,\n",
    "$$P_\\mathrm{max} = 100*P_\\mathrm{cold}$$\n",
    "The resulting limit is if\n",
    "$$P>P_\\mathrm{max}~\\mathrm{and~either}~\\rho<100*\\rho_{atm}~\\mathrm{or}~\\psi^6 > \\psi^6_\\mathrm{threshold}$$\n",
    "then\n",
    "$$P = P_\\mathrm{max}$$"
   ]
  },
  {
   "cell_type": "markdown",
   "metadata": {},
   "source": [
    "<a id='tabulated_eos_limits'></a>\n",
    "\n",
    "### Step 2.a.ii: Limits for the Tabulated EOS \\[Back to [top](#toc)\\]\n",
    "$$\\label{tabulated_eos_limits}$$\n",
    "\n",
    "TODO: Tabulated isn't in yet!"
   ]
  },
  {
   "cell_type": "markdown",
   "metadata": {},
   "source": [
    "<a id='speed_limit_v'></a>\n",
    "\n",
    "## Step 2.b: Speed limit $v^i$ and compute $u^0$ \\[Back to [top](#toc)\\]\n",
    "$$\\label{speed_limit_v}$$\n",
    "\n",
    "Finally, we use the `limit_v_and_compute_u0` function to speed limit $v^i$ and compute $u^0$. For more on this function, please see \n",
    "TODO: link to nb"
   ]
  }
 ],
 "metadata": {
  "kernelspec": {
   "display_name": "Python 3 (ipykernel)",
   "language": "python",
   "name": "python3"
  },
  "language_info": {
   "codemirror_mode": {
    "name": "ipython",
    "version": 3
   },
   "file_extension": ".py",
   "mimetype": "text/x-python",
   "name": "python",
   "nbconvert_exporter": "python",
   "pygments_lexer": "ipython3",
   "version": "3.10.4"
  }
 },
 "nbformat": 4,
 "nbformat_minor": 2
}
