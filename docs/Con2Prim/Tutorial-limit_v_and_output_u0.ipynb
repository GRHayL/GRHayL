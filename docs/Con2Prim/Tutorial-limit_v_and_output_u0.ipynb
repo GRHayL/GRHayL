{
 "cells": [
  {
   "cell_type": "markdown",
   "metadata": {},
   "source": [
    "<script async src=\"https://www.googletagmanager.com/gtag/js?id=UA-59152712-8\"></script>\n",
    "<script>\n",
    "  window.dataLayer = window.dataLayer || [];\n",
    "  function gtag(){dataLayer.push(arguments);}\n",
    "  gtag('js', new Date());\n",
    "\n",
    "  gtag('config', 'UA-59152712-8');\n",
    "</script>\n",
    "\n",
    "# Tutorial: compute_conservs_and_Tmunu.c\n",
    "\n",
    "## Authors: Leo Werneck, Zach Etienne, and Samuel Cupp\n",
    "\n",
    "<font color='red'>**This module is currently under development**</font>\n",
    "\n",
    "## In this tutorial module we explain the function `limit_v_and_output_u0`. This function uses the TODO parameter W_max to limit the speed $v^i$ and compute $u^0$.\n",
    "\n",
    "### Required and recommended citations:\n",
    "* **(Required)** Etienne, Z. B., Paschalidis, V., Haas R., Mösta P., and Shapiro, S. L. IllinoisGRMHD: an open-source, user-friendly GRMHD code for dynamical spacetimes. Class. Quantum Grav. 32 (2015) 175009. ([arxiv:1501.07276](http://arxiv.org/abs/1501.07276)).\n",
    "* **(Required)** Noble, S. C., Gammie, C. F., McKinney, J. C., Del Zanna, L. Primitive Variable Solvers for Conservative General Relativistic Magnetohydrodynamics. Astrophysical Journal, 641, 626 (2006) ([astro-ph/0512420](https://arxiv.org/abs/astro-ph/0512420)).\n",
    "* **(Recommended)** Del Zanna, L., Bucciantini N., Londrillo, P. An efficient shock-capturing central-type scheme for multidimensional relativistic flows - II. Magnetohydrodynamics. A&A 400 (2) 397-413 (2003). DOI: 10.1051/0004-6361:20021641 ([astro-ph/0210618](https://arxiv.org/abs/astro-ph/0210618))."
   ]
  },
  {
   "cell_type": "markdown",
   "metadata": {},
   "source": [
    "<a id='toc'></a>\n",
    "\n",
    "# Table of Contents\n",
    "$$\\label{toc}$$\n",
    "\n",
    "This module is organized as follows\n",
    "\n",
    "1. [Step 1](#introduction): **Introduction**\n",
    "1. [Step 2](#limit_v_and_output_u0): **The `limit_v_and_output_u0` function**\n",
    "1. [Step 3](#latex_pdf_output): **Output this notebook to $\\LaTeX$-formatted PDF file**"
   ]
  },
  {
   "cell_type": "markdown",
   "metadata": {},
   "source": [
    "<a id='introduction'></a>\n",
    "\n",
    "# Step 1: Introduction \\[Back to [top](#toc)\\]\n",
    "$$\\label{introduction}$$\n",
    "\n",
    "In this tutorial notebook we discuss our code for speed limiting the 3-velocity $v^i$. After limiting $v^i$, the function computes the 0th component of the 4-velocity $u^0$. This function is called by the conservative-to-primitive routines and `enforce_primitive_limits_and_output_u0`."
   ]
  },
  {
   "cell_type": "markdown",
   "metadata": {},
   "source": [
    "<a id='limit_v_and_output_u0'></a>\n",
    "\n",
    "# Step 2: The `limit_v_and_output_u0` function \\[Back to [top](#toc)\\]\n",
    "$$\\label{limit_v_and_output_u0}$$\n",
    "\n",
    "\n",
    "First, let's look at the arguments of `compute_conservs_and_Tmunu`:\n",
    "```\n",
    "void limit_v_and_output_u0(\n",
    "      const eos_parameters *restrict eos,\n",
    "      const metric_quantities *restrict metric,\n",
    "      primitive_quantities *restrict prims,\n",
    "      double *restrict u0_out,\n",
    "      con2prim_diagnostics *restrict diagnostics) \n",
    "```\n",
    "\n",
    "The outputs are the speed-limited $v^i$ and $u^0$.\n",
    "\n",
    "First, we need to find a good inequality to use to limit $v$.\n",
    "\\begin{align}\n",
    "\\frac{\\gamma_{ij} (v^i + \\beta^i)(v^j + \\beta^j)}{\\alpha^2} & = \\frac{\\gamma_{ij}}{(u^0\\alpha)^2} ( \\gamma^{ik} u_k \\gamma^{jl} u_l) \\\\\n",
    "%\n",
    "& = \\frac{1}{(u^0\\alpha)^2} u_j u_l \\gamma^{jl} \\\\\n",
    "%\n",
    "& = \\frac{1}{(u^0\\alpha)^2} ( (u^0 \\alpha)^2 - 1 ) \\\\\n",
    "& = \\frac{1}{(u^0\\alpha)^2} <= 1\n",
    "\\end{align}\n",
    "The first step uses eq. 53 of arXiv:astro-ph/0503420. The second step follows from the identity\\\n",
    "$$\\gamma_{ij} \\gamma^{ik} = \\delta^k_j$$\n",
    "The third step uses eq. 56 of arXiv:astro-ph/0503420. From this, we can set a threshold above which the speed limiter triggers. This limit is based on the parameter $W_\\mathrm{max}$, the maximum allowed Lorentz factor for the simulation. Defining the quantities\n",
    "$$ L_\\mathrm{in} = \\frac{1}{(u^0\\alpha)^2} $$\n",
    "$$ L_\\mathrm{max} = \\frac{1}{W_\\mathrm{max}^2} $$\n",
    "Then, the condition for limiting the speed is just\n",
    "$$ L_\\mathrm{in} > L_\\mathrm{max} $$\n",
    "The speed limiter then rescales the velocities using\n",
    "$$v^i = \\frac{L_\\mathrm{max}}{L_\\mathrm{in}}\\left( v^i + \\beta^i \\right) - \\beta^i$$\n",
    "\n",
    "The final step is to calculate $u^0$. Since we have the lapse from the metric struct, we can simply rearrange $L_\\mathrm{in}$ (or $L_\\mathrm{max}$ if speed limited) to get $u^0$."
   ]
  },
  {
   "cell_type": "markdown",
   "metadata": {},
   "source": [
    "<a id='latex_pdf_output'></a>\n",
    "\n",
    "# Step 3: Output this notebook to $\\LaTeX$-formatted PDF file \\[Back to [top](#toc)\\]\n",
    "$$\\label{latex_pdf_output}$$\n",
    "\n",
    "The following code cell converts this Jupyter notebook into a proper, clickable $\\LaTeX$-formatted PDF file. After the cell is successfully run, the generated PDF may be found in the root NRPy+ tutorial directory, with filename\n",
    "[Tutorial-IllinoisGRMHD__apply_tau_floor__enforce_limits_on_primitives_and_recompute_conservs.pdf](Tutorial-IllinoisGRMHD__apply_tau_floor__enforce_limits_on_primitives_and_recompute_conservs.pdf) (Note that clicking on this link may not work; you may need to open the PDF file through another means)."
   ]
  },
  {
   "cell_type": "markdown",
   "metadata": {},
   "source": [
    "latex_nrpy_style_path = os.path.join(nrpy_dir_path,\"latex_nrpy_style.tplx\")\n",
    "#!jupyter nbconvert --to latex --template $latex_nrpy_style_path --log-level='WARN' Tutorial-IllinoisGRMHD__apply_tau_floor__enforce_limits_on_primitives_and_recompute_conservs.ipynb\n",
    "#!pdflatex -interaction=batchmode Tutorial-IllinoisGRMHD__apply_tau_floor__enforce_limits_on_primitives_and_recompute_conservs.tex\n",
    "#!pdflatex -interaction=batchmode Tutorial-IllinoisGRMHD__apply_tau_floor__enforce_limits_on_primitives_and_recompute_conservs.tex\n",
    "#!pdflatex -interaction=batchmode Tutorial-IllinoisGRMHD__apply_tau_floor__enforce_limits_on_primitives_and_recompute_conservs.tex\n",
    "!rm -f Tut*.out Tut*.aux Tut*.log"
   ]
  }
 ],
 "metadata": {
  "kernelspec": {
   "display_name": "Python 3 (ipykernel)",
   "language": "python",
   "name": "python3"
  },
  "language_info": {
   "codemirror_mode": {
    "name": "ipython",
    "version": 3
   },
   "file_extension": ".py",
   "mimetype": "text/x-python",
   "name": "python",
   "nbconvert_exporter": "python",
   "pygments_lexer": "ipython3",
   "version": "3.10.4"
  }
 },
 "nbformat": 4,
 "nbformat_minor": 2
}
