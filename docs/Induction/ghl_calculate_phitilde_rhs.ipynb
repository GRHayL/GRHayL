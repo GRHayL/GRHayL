{
 "cells": [
  {
   "cell_type": "markdown",
   "metadata": {},
   "source": [
    "<script async src=\"https://www.googletagmanager.com/gtag/js?id=UA-59152712-8\"></script>\n",
    "<script>\n",
    "  window.dataLayer = window.dataLayer || [];\n",
    "  function gtag(){dataLayer.push(arguments);}\n",
    "  gtag('js', new Date());\n",
    "\n",
    "  gtag('config', 'UA-59152712-8');\n",
    "</script>\n",
    "\n",
    "# The `ghl_calculate_phitilde_rhs` Function\n",
    "\n",
    "## Authors: Samuel Cupp, Leo Werneck, and Zach Etienne\n",
    "\n",
    "<font color='red'>**This module is currently under development**</font>\n",
    "\n",
    "### Required and recommended citations:\n",
    "* **(Required)** GRHayL (TBD)\n",
    "* **(Required)** [Etienne, Paschalidis, Haas, Mösta, and Shapiro. IllinoisGRMHD: an open-source, user-friendly GRMHD code for dynamical spacetimes (2015)](http://arxiv.org/abs/1501.07276)."
   ]
  },
  {
   "cell_type": "markdown",
   "metadata": {},
   "source": [
    "<a id='introduction'></a>\n",
    "\n",
    "# Introduction \\[Back to [top](#toc)\\]\n",
    "$$\\label{introduction}$$\n",
    "\n",
    "The `ghl_calculate_phitilde_rhs` function $\\tilde{\\Phi}_\\mathrm{RHS}$, including the generalized Lorenz gauge contribution. This function expects the precomputation of intermediate quantities, which is provided by the `ghl_interpolate_for_induction_rhs` function. This separation allows for OMP parallelism, as the second function needs stencils of the intermediate quantities computed by `ghl_interpolate_for_induction_rhs`.\n",
    "\n",
    "The gauge contributions to $A_i^\\mathrm{RHS}$ are not included in this function because they are computed with finite difference stencils of output from `ghl_interpolate_for_induction_rhs`."
   ]
  },
  {
   "cell_type": "markdown",
   "metadata": {},
   "source": [
    "<a id='arglist'></a>\n",
    "\n",
    "## Function Argument List\n",
    "$$\\label{arglist}$$\n",
    "\n",
    "The prototype for the `ghl_calculate_phitilde_rhs` function is\n",
    "```\n",
    "double ghl_calculate_phitilde_rhs(\n",
    "      const double dxi[3],\n",
    "      const double Lorenz_damping_factor,\n",
    "      const double alpha_interp,\n",
    "      const double shiftx_interp[5],\n",
    "      const double shifty_interp[5],\n",
    "      const double shiftz_interp[5],\n",
    "      const double Ai_stencil[3][2],\n",
    "      const double phitilde_stencil[3][5])\n",
    "```\n",
    "\n",
    "`dxi` is an array of the inverse grid spacing\n",
    "$$\n",
    "\\mathrm{dxi[3]} = \\{\\frac{1}{dx}, \\frac{1}{dy}, \\frac{1}{dz}\\}\n",
    "$$\n",
    "`Lorenz_damping_factor` sets the damping factor for the generalized Lorenz gauge term. `shiftx_interp`, `shifty_interp`, and `shiftz_interp` are stencils of the interpolated shift ranging from $i-2$ to $i+2$ in the direction of the component (e.g. shiftx_interp is a 1D stencil in the x direction). `phitilde_stencil` provides an identical stencil, but it is needed for all three directions. Hence, the first index represents the coordinate and the second represents the stencil. Finally, `Ai_stencil` contains the `alpha_sqrtg_A*_interp` stencils provided by `ghl_interpolate_for_induction_rhs`."
   ]
  },
  {
   "cell_type": "markdown",
   "metadata": {},
   "source": [
    "<a id='inputs'></a>\n",
    "\n",
    "# Function Internals\n",
    "$$\\label{inputs}$$\n",
    "\n",
    "$\\tilde{\\Phi}_\\mathrm{RHS}$ is given by\n",
    "$$\n",
    "\\tilde{\\Phi}_\\mathrm{RHS} = \\mathrm{[shift\\ advection\\ term]} + \\partial_j (\\alpha \\sqrt{\\gamma} A^j)\n",
    "$$\n",
    "This function first computes the advection term. The exact computation depends on the value of the shift at the point of interest. If the shift is negative, then the term is a stencil from $i-2$ to $i$. Otherwise, it is a stencil from $i$ to $+2$. If we consider the $x$ direction, then for negative $\\beta^x$, the RHS is given by\n",
    "$$\n",
    "\\tilde{\\Phi}_{\\mathrm{RHS},\\beta^x} = \\frac{1}{\\Delta x}\\left( \\beta^x_{i-2}\\tilde{\\Phi}_{i-2} -4\\beta^x_{i-1}\\tilde{\\Phi}_{i-1} + 3\\beta^x_{i}\\tilde{\\Phi}_{i}\\right)\n",
    "$$\n",
    "\n",
    "For positive $\\beta^x$, it is instead\n",
    "$$\n",
    "\\tilde{\\Phi}_{\\mathrm{RHS},\\beta^x} = -\\frac{1}{\\Delta x}\\left( \\beta^x_{i+2}\\tilde{\\Phi}_{i+2} -4\\beta^x_{i+1}\\tilde{\\Phi}_{i+1} + 3\\beta^x_{i}\\tilde{\\Phi}_{i}\\right)\n",
    "$$\n",
    "\n",
    "The contributions from $\\beta^y$ and $\\beta^z$ are identical, but with the stencils in $j$ and $k$, respectively. After these, we add the\n",
    "$$\n",
    "\\partial_j (\\alpha \\sqrt{\\gamma} A^j)\n",
    "$$\n",
    "term by using the `Ai_stencil` array. Finally, we compute the damping factor by adding\n",
    "$$\n",
    "- (\\mathrm{Lorenz\\_damping\\_factor})\\ \\alpha \\tilde{\\Phi}\n",
    "$$"
   ]
  }
 ],
 "metadata": {
  "kernelspec": {
   "display_name": "Python 3 (ipykernel)",
   "language": "python",
   "name": "python3"
  },
  "language_info": {
   "codemirror_mode": {
    "name": "ipython",
    "version": 3
   },
   "file_extension": ".py",
   "mimetype": "text/x-python",
   "name": "python",
   "nbconvert_exporter": "python",
   "pygments_lexer": "ipython3",
   "version": "3.10.4"
  }
 },
 "nbformat": 4,
 "nbformat_minor": 2
}
