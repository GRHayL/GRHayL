{
 "cells": [
  {
   "cell_type": "markdown",
   "metadata": {},
   "source": [
    "<script async src=\"https://www.googletagmanager.com/gtag/js?id=UA-59152712-8\"></script>\n",
    "<script>\n",
    "  window.dataLayer = window.dataLayer || [];\n",
    "  function gtag(){dataLayer.push(arguments);}\n",
    "  gtag('js', new Date());\n",
    "\n",
    "  gtag('config', 'UA-59152712-8');\n",
    "</script>\n",
    "\n",
    "# Induction Gem Guide\n",
    "\n",
    "## Authors: Samuel Cupp, Leo Werneck, and Zach Etienne\n",
    "\n",
    "<font color='red'>**This module is currently under development**</font>\n",
    "\n",
    "### Required and recommended citations:\n",
    "* **(Required)** GRHayL (TBD)\n",
    "* **(Required)** [Etienne, Paschalidis, Haas, Mösta, and Shapiro. IllinoisGRMHD: an open-source, user-friendly GRMHD code for dynamical spacetimes (2015)](http://arxiv.org/abs/1501.07276).\n",
    "* **(Recommended)** [Del Zanna, Bucciantini, and Londrillo. An efficient shock-capturing central-type scheme for multidimensional relativistic flows - II. Magnetohydrodynamics (2003)](https://arxiv.org/abs/astro-ph/0210618)."
   ]
  },
  {
   "cell_type": "markdown",
   "metadata": {},
   "source": [
    "<a id='toc'></a>\n",
    "\n",
    "# Table of Contents\n",
    "$$\\label{toc}$$\n",
    "\n",
    "This module is organized as follows\n",
    "\n",
    "1. [**Introduction**](#introduction)\n",
    "1. [**The General Design**](#design)\n",
    "    1. [*Flux Terms*](#flux_terms)\n",
    "    1. [*Gauge Terms*](#gauge_terms)\n",
    "1. [**Usage Example**](#example)"
   ]
  },
  {
   "cell_type": "markdown",
   "metadata": {},
   "source": [
    "<a id='introduction'></a>\n",
    "\n",
    "# Introduction \\[Back to [top](#toc)\\]\n",
    "$$\\label{introduction}$$\n",
    "\n",
    "The `Induction` gem provides several functions assist with computing the right-hand sides (RHS) for the induction equation. These functions are split between those which are naturally computed in a single direction (flux contributions to $A_i^{\\rm RHS}$) and those which are direction-independent ($\\tilde{\\Phi}^{\\rm RHS}$ and gauge contributions to $A_i^{\\rm RHS}$)."
   ]
  },
  {
   "cell_type": "markdown",
   "metadata": {},
   "source": [
    "<a id='design'></a>\n",
    "\n",
    "# The General Design \\[Back to [top](#toc)\\]\n",
    "\n",
    "$$\\label{design}$$\n",
    "\n",
    "To compute the RHS, several considerations have to be made. First, we need to decide if we have staggered variables. Currently, all `GRHayL` functions assume that the vector potential $A_i$ is staggered in the perpendicular directions (i.e. $A_x$ is staggered in the y,z directions and $A_y$ is staggered in the x,z directions). Due to the implementation of the HLL flux, `GRHayL`'s notation also assumes the presence of a $B^i$ staggered in one direction (i.e. $B^x$ is staggered in the x direction and $B^y$ is staggered in the y direction). However, note that since all `GRHayL` functions only take stencils of variables, whether there is actually a grid variable $B_{\\rm stagger}$ is entirely unknown to `GRHayL`, so long as it is able to be passed the expected variables. The scalar potential $\\tilde{\\Phi}$ is fully staggered to $(i+\\frac{1}{2},j+\\frac{1}{2},k+\\frac{1}{2})$. For clarity, we will label any staggered variables using $\\underline{A}$.\n",
    "\n",
    "TODO: give explicit definition of $B$, since we do differ from e.g. Noble2D by factor"
   ]
  },
  {
   "cell_type": "markdown",
   "metadata": {},
   "source": [
    "<a id='flux_terms'></a>\n",
    "\n",
    "## Flux Terms \\[Back to [top](#toc)\\]\n",
    "\n",
    "$$\\label{flux_terms}$$\n",
    "\n",
    "`GRHayL` currently only implements the Harten, Lax, and van Leer (HLL) flux method (see e.g. [Del Zanna, Bucciantini & Londrillo](https://arxiv.org/abs/astro-ph/0210618)). This is provided with the `HLL_flux` function:\n",
    "\n",
    "```\n",
    "double HLL_flux(const A_no_gauge_vars *restrict vars)\n",
    "```\n",
    "which directly returns the RHS contribution. The flux computation is completely independent of direction, as all the data simply needs to be properly packed into the `A_no_gauge_vars` struct. The A_no_gauge_vars struct is more complicated than most structs due to the cross-product terms that require different coordinates depending on the component of the RHS being computed. As such, it is highly recommended that users read the [HLL flux](HLL_flux.ipynb) documentation before using. This function requires multiple reconstructions of the velocities to get to the staggered gridpoint of $\\underline{A}_i$, and improperly packing the struct will cause unexpected behavior."
   ]
  },
  {
   "cell_type": "markdown",
   "metadata": {},
   "source": [
    "<a id='gauge_terms'></a>\n",
    "\n",
    "## Gauge Terms \\[Back to [top](#toc)\\]\n",
    "\n",
    "$$\\label{gauge_terms}$$\n",
    "\n",
    "`GRHayL` implements the RHS of $\\underline{\\tilde{\\Phi}}^{\\rm RHS}$ and the gauge terms of $\\underline{A}_i^{\\rm RHS}$ in the same function. However, these calculations require stencils of quantities that have to be computed. To make the gem infrastructure-agnostic (and to help with OMP parallelism), the two functions `interpolate_for_A_gauge_rhs` and `calculate_phitilde_and_A_gauge_rhs` are provided to assist with computing these RHS values.\n",
    "\n",
    "The first function\n",
    "```\n",
    "void interpolate_for_A_gauge_rhs(\n",
    "      A_gauge_vars *restrict gauge_vars,\n",
    "      A_gauge_rhs_vars *restrict gauge_rhs_vars)\n",
    "```\n",
    "takes stencils of the metric quantities and $\\underline{A}_i$ and computes intermediaries for the second function. The `interpolate_for_A_gauge_rhs` documentation(TODO: link) provides more information about using this function.\n",
    "\n",
    "The required input variables are the inverse BSSN metric $\\tilde{g}^{ij}$, BSSN variable $\\psi$, lapse, shift, vector potential $\\underline{A}_i$, and scalar potential $\\underline{\\tilde{\\Phi}}$.\n",
    "\n",
    "The output variables are the lapse, shift, and $(\\alpha \\Phi - \\beta^j A_j)$ interpolated to $(i+\\frac{1}{2},j+\\frac{1}{2},k+\\frac{1}{2})$, and $\\alpha \\sqrt{\\gamma} A_i$ interpolated to the location of $A_i$.\n",
    "\n",
    "\n",
    "The second function\n",
    "```\n",
    "void calculate_phitilde_and_A_gauge_rhs(\n",
    "      const double Lorenz_damping_factor,\n",
    "      A_gauge_rhs_vars *restrict vars)\n",
    "```\n",
    "takes stencils of the intermediate quantities and returns $\\underline{\\tilde{\\Phi}}^{\\rm RHS}$ and the gauge contribution to $\\underline{A}_i{\\rm RHS}$. While users are free to compute these intermediate quantities in their own way, it is highly recommended to use the two functions together. The [calculate_phitilde_and_A_gauge_rhs](phitilde_and_A_gauge_rhs.ipynb) function documentation provides more information about using this function."
   ]
  },
  {
   "cell_type": "markdown",
   "metadata": {},
   "source": [
    "<a id='example'></a>\n",
    "\n",
    "# Usage Example \\[Back to [top](#toc)\\]\n",
    "$$\\label{example}$$\n",
    "\n",
    "This example is taken from the `GRHayL_IGM` implementation in [evaluate_MHD_rhs.c](https://github.com/SamuelCupp/GRHayL_beta/blob/main/implementations/GRHayL_IGM/src/evaluate_MHD_rhs.c). While this function computes all the RHS variables, only the outline of steps for the induction equation will be included here. All reconstructed operations are included, even those only needed for the GRHD RHS functions to make implementation easier. Reconstructed variables will be denoted with an $R$ followed by the coordinates they've been reconstructed in. Note that this implementation reconstructs to $m-\\frac{1}{2}$, while the magnetic components are needed at $m+\\frac{1}{2}$. This leads to additional indexing complications for computing $A_i^{\\rm RHS}$. As this choice is inherited from IlliniosGRMHD, we leave it as is until an example code implements a simpler version of this process.\n",
    "\n",
    "## Steps\n",
    "\n",
    "### First reconstruction direction ($x$)\n",
    "\n",
    "1. Reconstruct $\\rho_b$, $P$, $v^i$, $B^x$, $B^z$, $\\underline{B}^y$ in the $x$ direction using `simple_ppm`\n",
    "   1. We can skip one reconstruction by using $B^x_{Rx}(i,j,k) = \\underline{B}_x(i-1,j,k)$ (the minus one accounts for $\\underline{B}_x$ being at staggered point $i+\\frac{1}{2}$ while reconstruction gives $i-\\frac{1}{2}$\n",
    "   1. This gives us e.g. $P^{Rx}$ at the point $(i-\\frac{1}{2},j,k)$ and $\\underline{B}^y_{Rx}$ at the point $(i-\\frac{1}{2},j+\\frac{1}{2},k)$\n",
    "1. Compute the characteristic speeds in the $x$ direction using `calculate_characteristic_speed_dirn0`\n",
    "\n",
    "### Second reconstruction direction ($y$)\n",
    "\n",
    "1. Reconstruct $v^x_{Rx}$ and $v^y_{Rx}$ in the $y$ direction using `simple_ppm_no_rho_P`\n",
    "   1. This gives us $v^i_{Rxy}$ at the point $(i-\\frac{1}{2},j-\\frac{1}{2},k)$\n",
    "1. Reconstruct $\\rho_b$, $P$, $v^i$, $B^x$, $B^z$, $\\underline{B}^x$, $\\underline{B}^z$ in the $y$ direction using `simple_ppm`\n",
    "   1. We can skip one reconstruction by using $B^y_{Ry}(i,j,k) = \\underline{B}_y(i,j-1,k)$ (the minus one accounts for $\\underline{B}_y$ being at staggered point $j+\\frac{1}{2}$ while reconstruction gives $j-\\frac{1}{2}$\n",
    "   1. This gives us e.g. $P^{Ry}$ at the point $(i,j-\\frac{1}{2},k)$ and $\\underline{B}^x_{Ry}$ at the point $(i+\\frac{1}{2},j-\\frac{1}{2},k)$\n",
    "1. Compute the characteristic speeds in the $y$ direction using `calculate_characteristic_speed_dirn1`\n",
    "1. Compute $A_z^{\\rm RHS}$ using `HLL_flux`\n",
    "   1. At this point, we have the following variables:\n",
    "      1. $v^i_{Rxy}$ at $(i-\\frac{1}{2},j-\\frac{1}{2},k)$\n",
    "      1. $\\underline{B}^x_{Ry}$ at $(i+\\frac{1}{2},j-\\frac{1}{2},k)$\n",
    "      1. $\\underline{B}^y_{Rx}$ at $(i-\\frac{1}{2},j+\\frac{1}{2},k)$\n",
    "      1. $c^x_{min}$ at $(i-\\frac{1}{2},j,k)$<a name=\"cspeed_ref\"></a>[<sup>[1]</sup>](#cspeed_note)\n",
    "      1. $c^y_{min}$ at $(i,j-\\frac{1}{2},k)$<a name=\"cspeed_ref\"></a>[<sup>[1]</sup>](#cspeed_note)\n",
    "   1. These need to be properly indexed to get all of them to the $+\\frac{1}{2}$ point, meaning adding 1 to any indices with the minus.\n",
    "   \n",
    "\n",
    "### Third reconstruction direction ($z$)\n",
    "\n",
    "1. Reconstruct $v^y_{Ry}$ and $v^z_{Ry}$ in the $z$ direction using `simple_ppm_no_rho_P`\n",
    "   1. This gives us $v^i_{Ryz}$ at the point $(i,j-\\frac{1}{2},k-\\frac{1}{2})$\n",
    "1. Reconstruct $\\rho_b$, $P$, $v^i$, $B^x$, $B^y$, $\\underline{B}^x$, $\\underline{B}^y$ in the $z$ direction using `simple_ppm`\n",
    "   1. We can skip one reconstruction by using $B^z_{Ry}(i,j,k) = \\underline{B}_z(i,j,k-1)$ (the minus one accounts for $\\underline{B}_z$ being at staggered point $k+\\frac{1}{2}$ while reconstruction gives $k-\\frac{1}{2}$\n",
    "   1. This gives us e.g. $P^{Rz}$ at the point $(i,j,k-\\frac{1}{2})$ and $\\underline{B}^x_{Rz}$ at the point $(i+\\frac{1}{2},j,k-\\frac{1}{2})$\n",
    "1. Compute the characteristic speeds in the $z$ direction using `calculate_characteristic_speed_dirn2`\n",
    "1. Compute $A_x^{\\rm RHS}$ using `HLL_flux`\n",
    "   1. At this point, we have the following variables:\n",
    "      1. $v^i_{Ryz}$ at $(i,j-\\frac{1}{2},k-\\frac{1}{2})$\n",
    "      1. $\\underline{B}^z_{Ry}$ at $(i,j-\\frac{1}{2},k+\\frac{1}{2})$\n",
    "      1. $\\underline{B}^y_{Rz}$ at $(i,j+\\frac{1}{2},k-\\frac{1}{2})$\n",
    "      1. $c^y_{min}$ at $(i,j-\\frac{1}{2},k)$<a name=\"cspeed_ref\"></a>[<sup>[1]</sup>](#cspeed_note)\n",
    "      1. $c^z_{min}$ at $(i,j,k-\\frac{1}{2})$<a name=\"cspeed_ref\"></a>[<sup>[1]</sup>](#cspeed_note)\n",
    "   1. These need to be properly indexed to get all of them to the $+\\frac{1}{2}$ point, meaning adding 1 to any indices with the minus.\n",
    "\n",
    "\n",
    "### Fourth reconstruction direction ($x$ again)\n",
    "\n",
    "1. Reconstruct $\\underline{B}^z$, $v^x_{Rz}$ and $v^z_{Rz}$ in the $x$ direction using `simple_ppm_no_rho_P`\n",
    "   1. This gives us $v^i_{Ryz}$ at the point $(i,j-\\frac{1}{2},k-\\frac{1}{2})$ and $\\underline{B}^z_{Rx}$ at the point $(i-\\frac{1}{2},j,k+\\frac{1}{2})$\n",
    "1. Compute the characteristic speeds in the $z$ direction using `calculate_characteristic_speed_dirn2`\n",
    "1. Compute $A_y^{\\rm RHS}$ using `HLL_flux`\n",
    "   1. At this point, we have the following variables:\n",
    "      1. $v^i_{Rzx}$ at $(i-\\frac{1}{2},j,k-\\frac{1}{2})$\n",
    "      1. $\\underline{B}^z_{Rx}$ at $(i-\\frac{1}{2},j,k+\\frac{1}{2})$\n",
    "      1. $\\underline{B}^x_{Rz}$ at $(i+\\frac{1}{2},j,k-\\frac{1}{2})$\n",
    "      1. $c^x_{min}$ at $(i-\\frac{1}{2},j,k)$<a name=\"cspeed_ref\"></a>[<sup>[1]</sup>](#cspeed_note)\n",
    "      1. $c^z_{min}$ at $(i,j,k-\\frac{1}{2})$<a name=\"cspeed_ref\"></a>[<sup>[1]</sup>](#cspeed_note)\n",
    "   1. These need to be properly indexed to get all of them to the $+\\frac{1}{2}$ point, meaning adding 1 to any indices with the minus."
   ]
  },
  {
   "cell_type": "markdown",
   "metadata": {},
   "source": [
    "# Footnotes\n",
    "<a name=\"cspeed_note\"></a>1. [^](#cspeed_ref) Note that the characteristic speeds are not actually at the same point. We could calculate these values at the correct location by computing the characteristic speeds using the doubly reconstructed velocities. However, this would introduce many more loops over the `calculate_characteristic_speed_dirn*` functions since we need these $c^i$ for the GRHD RHS calculations anyways. In addition, we would either need to introduce more grid functions or reconstruct the velocities repeatedly to get everything we need for every RHS calculation. However, the usage of the misaligned $c^i$ matches that of [Del Zanna, Bucciantini & Londrillo](https://arxiv.org/abs/astro-ph/0210618) (labeled as $\\alpha^{\\pm}$). Yuk Tung Liu discussed this point with M. Shibata, who found that the effect of this offset is negligible."
   ]
  }
 ],
 "metadata": {
  "kernelspec": {
   "display_name": "Python 3 (ipykernel)",
   "language": "python",
   "name": "python3"
  },
  "language_info": {
   "codemirror_mode": {
    "name": "ipython",
    "version": 3
   },
   "file_extension": ".py",
   "mimetype": "text/x-python",
   "name": "python",
   "nbconvert_exporter": "python",
   "pygments_lexer": "ipython3",
   "version": "3.10.4"
  }
 },
 "nbformat": 4,
 "nbformat_minor": 2
}
