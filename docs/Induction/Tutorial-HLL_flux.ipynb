{
 "cells": [
  {
   "cell_type": "markdown",
   "metadata": {},
   "source": [
    "<script async src=\"https://www.googletagmanager.com/gtag/js?id=UA-59152712-8\"></script>\n",
    "<script>\n",
    "  window.dataLayer = window.dataLayer || [];\n",
    "  function gtag(){dataLayer.push(arguments);}\n",
    "  gtag('js', new Date());\n",
    "\n",
    "  gtag('config', 'UA-59152712-8');\n",
    "</script>\n",
    "\n",
    "# Tutorial: simple_ppm.c\n",
    "\n",
    "## Authors: Leo Werneck, Zach Etienne, and Samuel Cupp\n",
    "\n",
    "<font color='red'>**This module is currently under development**</font>\n",
    "\n",
    "## In this tutorial module we explain the function `HLL_flux`. This function computes the right-hand side for $A_i$, excluding the gauge contribution.\n",
    "\n",
    "### Required and recommended citations:\n",
    "* **(Required)** Etienne, Z. B., Paschalidis, V., Haas R., Mösta P., and Shapiro, S. L. IllinoisGRMHD: an open-source, user-friendly GRMHD code for dynamical spacetimes. Class. Quantum Grav. 32 (2015) 175009. ([arxiv:1501.07276](http://arxiv.org/abs/1501.07276)).\n",
    "* **(Required)** Noble, S. C., Gammie, C. F., McKinney, J. C., Del Zanna, L. Primitive Variable Solvers for Conservative General Relativistic Magnetohydrodynamics. Astrophysical Journal, 641, 626 (2006) ([astro-ph/0512420](https://arxiv.org/abs/astro-ph/0512420)).\n",
    "* **(Recommended)** Del Zanna, L., Bucciantini N., Londrillo, P. An efficient shock-capturing central-type scheme for multidimensional relativistic flows - II. Magnetohydrodynamics. A&A 400 (2) 397-413 (2003). DOI: 10.1051/0004-6361:20021641 ([astro-ph/0210618](https://arxiv.org/abs/astro-ph/0210618))."
   ]
  },
  {
   "cell_type": "markdown",
   "metadata": {},
   "source": [
    "<a id='toc'></a>\n",
    "\n",
    "# Table of Contents\n",
    "$$\\label{toc}$$\n",
    "\n",
    "This module is organized as follows\n",
    "\n",
    "1. [Step 1](#introduction): **Introduction**\n",
    "1. [Step 2](#HLL_flux): **The `HLL_flux` function**\n",
    "1. [Step 3](#latex_pdf_output): **Output this notebook to $\\LaTeX$-formatted PDF file**"
   ]
  },
  {
   "cell_type": "markdown",
   "metadata": {},
   "source": [
    "<a id='introduction'></a>\n",
    "\n",
    "# Step 1: Introduction \\[Back to [top](#toc)\\]\n",
    "$$\\label{introduction}$$\n",
    "\n",
    "In this tutorial notebook we discuss the `HLL_flux` function for computing the right-hand side of $A_i$. The `calculate_phitilde_and_A_gauge_rhs` function (described [here](Tutorial-phitilde_and_A_gauge_rhs.ipynb)) provides the gauge contributions to the right-hand side, while this function calculates the contribution from $B$. For example,\n",
    "$$\n",
    "\\partial_t A_y = \\psi^{6} (v^z B^x - v^x B^z)\n",
    "$$"
   ]
  },
  {
   "cell_type": "markdown",
   "metadata": {},
   "source": [
    "<a id='HLL_flux'></a>\n",
    "\n",
    "# Step 2: The `HLL_flux` function \\[Back to [top](#toc)\\]\n",
    "\n",
    "$$\\label{HLL_flux}$$\n",
    "\n",
    "\n",
    "First, let's look at the arguments of `HLL_flux`:\n",
    "```\n",
    "double HLL_flux(const A_no_gauge_vars *restrict vars)\n",
    "```\n",
    "\n",
    "The only argument is a struct containing stencils for the needed input variables. This struct is defined as\n",
    "```\n",
    "typedef struct A_no_gauge_vars {\n",
    "  double psi6;\n",
    "  double B1r, B1l;\n",
    "  double B2r, B2l;\n",
    "  double c1_min, c1_max;\n",
    "  double c2_min, c2_max;\n",
    "  double v1rr, v1rl, v1lr, v1ll;\n",
    "  double v2rr, v2rl, v2lr, v2ll;\n",
    "} A_no_gauge_vars;\n",
    "```\n",
    "The 1 and 2 portions of the names come from the curl operation which gives the right-hand side. These $B^i$ are at the staggered grid points and are not cell-centered. The $r$ and $l$ represent the right/left faces. For example, $vxrr$ is the reconstructed right face of $v_x^R$, which is itself the reconstructed right face of $v_x$. The returned value is $A_i^{\\rm RHS}$, where $i$ depends on the inputs.\n",
    "\n",
    "Since filling this struct is less trivial than for most functions, we give a specific example assuming that we are calculating the $A_z$ term. In this case,\n",
    "\\begin{align}\n",
    "v_1 &= v_x \\\\\n",
    "v_2 &= v_y \\\\\n",
    "B^1 &= B^x \\\\\n",
    "B^2 &= B^y\n",
    "\\end{align}\n",
    "and so on. That is to say, all the \"1\" variables are the $x$ components, and the \"2\" variables are the $y$ components.  For the point $(i,j,k)$, the $v$ variables come from the point $(i+1,j+1,k)$. In general, the directions perpendicular to the $i$ of $A_i^{\\rm RHS}$ are increased by 1. The point of $B_1$ variables are from the point $(i,j+1,k)$, and the point of $B_2$ variables are from the point $(i+1,j,k)$. In general, the $B$ variables add 1 to the index $i$ of $A_i^{\\rm RHS}$ permuted by 1. Finally, the element `psi6` stores $\\psi^{6\\phi}$ at the staggered point $(i+\\frac{1}{2},j+\\frac{1}{2},k)$. In general, `psi6` is staggered in the directions perpendicular to the $i$ of $A_i^{\\rm RHS}$. Since $\\psi^{6\\phi}$ is naturally cell-centered, this usually requires interpolating the point before packing the struct. A table summarizing the grid points for these is given below:\n",
    "\n",
    "|  $A_i^{\\rm RHS}$ Direction  |  $v$ Index  | $B_1$ Index  | $B_2$ Index  | $psi6$ Index  |\n",
    "|:-----------------:|:-------------:|:-----------:|:-----------:|:-----------------------------------:|\n",
    "|         x         | $$(i,j+1,k+1)$$ | $$(i,j,k+1)$$ | $$(i,j+1,k)$$ | $$(i,j+\\frac{1}{2},k+\\frac{1}{2})$$ |\n",
    "|         y         | $$(i+1,j,k+1)$$ | $$(i+1,j,k)$$ | $$(i,j,k+1)$$ | $$(i+\\frac{1}{2},j,k+\\frac{1}{2})$$ |\n",
    "|         z         | $$(i+1,j+1,k)$$ | $$(i,j+1,k)$$ | $$(i+1,j,k)$$ | $$(i+\\frac{1}{2},j+\\frac{1}{2},k)$$ |\n",
    "\n",
    "To see a practical example of how to pack this grid function, see `A_no_gauge_rhs.c` in the `GRHayL_IGM` implementation. This implementation also shows how to easily produce the desired indices depending on the $A_i^{\\rm RHS}$ being computed.\n",
    "\n",
    "Within the `HLL_flux` function, we first compute the face values for $A_3^{\\rm RHS}$\n",
    "$$\n",
    "\\left(A_3^{\\rm RHS}\\right)_{ij} = \\psi^{6\\phi} \\left( \\left(v_1\\right)_{ij}\\left(B_2\\right)_{i} - \\left(v_2\\right)_{ij}\\left(B_2\\right)_{j} \\right)\n",
    "$$\n",
    "where $i$,$j$ represent the faces $r$ and $l$. So, $\\left(B_1\\right)_{r}$ is the struct element `B1r`, and $\\left(B_2\\right)_{r}$ is the struct element `B2l`.\n",
    "\n",
    "We also compute\n",
    "$$\n",
    "\\Delta \\tilde{B}_1 = \\psi^{6\\phi}\\left( \\left(B_1\\right)_{r} - \\left(B_1\\right)_{l} \\right) \\\\\n",
    "\\Delta \\tilde{B}_2 = \\psi^{6\\phi}\\left( \\left(B_2\\right)_{r} - \\left(B_2\\right)_{l} \\right)\n",
    "$$\n",
    "and\n",
    "$$\n",
    "c_1^{\\rm sum} = c_1^{\\rm min} + c_1^{\\rm max} \\\\\n",
    "c_2^{\\rm sum} = c_2^{\\rm min} + c_2^{\\rm max}\n",
    "$$\n",
    "\n",
    "With all of these, we can compute the RHS value using the HLL flux (see [see Del Zanna, Bucciantini & Londrillo A&A 400, 397 (2003), Eq. (44)])\n",
    "$$\n",
    "A_3^{\\rm RHS} = \\frac{c_1^{\\rm max} c_2^{\\rm max}}{c_1^{\\rm sum} c_2^{\\rm sum}}\\left(A_3^{\\rm RHS}\\right)_{ll}\n",
    "              + \\frac{c_1^{\\rm max} c_2^{\\rm min}}{c_1^{\\rm sum} c_2^{\\rm sum}} \\left(A_3^{\\rm RHS}\\right)_{lr}\n",
    "              + \\frac{c_1^{\\rm min} c_2^{\\rm max}}{c_1^{\\rm sum} c_2^{\\rm sum}} \\left(A_3^{\\rm RHS}\\right)_{rl}\n",
    "              + \\frac{c_1^{\\rm min} c_2^{\\rm min}}{c_1^{\\rm sum} c_2^{\\rm sum}} \\left(A_3^{\\rm RHS}\\right)_{rr}\n",
    "              - \\frac{c_1^{\\rm min}c_1^{\\rm max}\\Delta \\tilde{B}_2}{c_1^{\\rm sum}}\n",
    "              + \\frac{c_2^{\\rm min}c_2^{\\rm max}\\Delta \\tilde{B}_1}{c_2^{\\rm sum}}\n",
    "$$"
   ]
  },
  {
   "cell_type": "markdown",
   "metadata": {},
   "source": [
    "<a id='latex_pdf_output'></a>\n",
    "\n",
    "# Step 3: Output this notebook to $\\LaTeX$-formatted PDF file \\[Back to [top](#toc)\\]\n",
    "$$\\label{latex_pdf_output}$$\n",
    "\n",
    "The following code cell converts this Jupyter notebook into a proper, clickable $\\LaTeX$-formatted PDF file. After the cell is successfully run, the generated PDF may be found in the root NRPy+ tutorial directory, with filename\n",
    "[Tutorial-IllinoisGRMHD__apply_tau_floor__enforce_limits_on_primitives_and_recompute_conservs.pdf](Tutorial-IllinoisGRMHD__apply_tau_floor__enforce_limits_on_primitives_and_recompute_conservs.pdf) (Note that clicking on this link may not work; you may need to open the PDF file through another means)."
   ]
  },
  {
   "cell_type": "markdown",
   "metadata": {},
   "source": [
    "latex_nrpy_style_path = os.path.join(nrpy_dir_path,\"latex_nrpy_style.tplx\")\n",
    "#!jupyter nbconvert --to latex --template $latex_nrpy_style_path --log-level='WARN' Tutorial-IllinoisGRMHD__apply_tau_floor__enforce_limits_on_primitives_and_recompute_conservs.ipynb\n",
    "#!pdflatex -interaction=batchmode Tutorial-IllinoisGRMHD__apply_tau_floor__enforce_limits_on_primitives_and_recompute_conservs.tex\n",
    "#!pdflatex -interaction=batchmode Tutorial-IllinoisGRMHD__apply_tau_floor__enforce_limits_on_primitives_and_recompute_conservs.tex\n",
    "#!pdflatex -interaction=batchmode Tutorial-IllinoisGRMHD__apply_tau_floor__enforce_limits_on_primitives_and_recompute_conservs.tex\n",
    "!rm -f Tut*.out Tut*.aux Tut*.log"
   ]
  }
 ],
 "metadata": {
  "kernelspec": {
   "display_name": "Python 3 (ipykernel)",
   "language": "python",
   "name": "python3"
  },
  "language_info": {
   "codemirror_mode": {
    "name": "ipython",
    "version": 3
   },
   "file_extension": ".py",
   "mimetype": "text/x-python",
   "name": "python",
   "nbconvert_exporter": "python",
   "pygments_lexer": "ipython3",
   "version": "3.10.4"
  }
 },
 "nbformat": 4,
 "nbformat_minor": 2
}
