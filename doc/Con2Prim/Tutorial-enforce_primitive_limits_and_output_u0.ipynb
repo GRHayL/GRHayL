{
 "cells": [
  {
   "cell_type": "markdown",
   "metadata": {},
   "source": [
    "<script async src=\"https://www.googletagmanager.com/gtag/js?id=UA-59152712-8\"></script>\n",
    "<script>\n",
    "  window.dataLayer = window.dataLayer || [];\n",
    "  function gtag(){dataLayer.push(arguments);}\n",
    "  gtag('js', new Date());\n",
    "\n",
    "  gtag('config', 'UA-59152712-8');\n",
    "</script>\n",
    "\n",
    "# Tutorial: enforce_primitive_limits_and_output_u0.c\n",
    "\n",
    "## Authors: Leo Werneck, Zach Etienne, and Samuel Cupp\n",
    "\n",
    "<font color='red'>**This module is currently under development**</font>\n",
    "\n",
    "## In this tutorial module we explain the function `enforce_primitive_limits_and_output_u0`. This function uses the GRHayL simulation and equation-of-state parameters along with the metric to enforce limits on the computed primitives. It also output $u^0$, which is an input for the function `compute_conservs_and_Tmunu`.\n",
    "\n",
    "### Required and recommended citations:\n",
    "\n",
    "* **(Required)** Etienne, Z. B., Paschalidis, V., Haas R., Mösta P., and Shapiro, S. L. IllinoisGRMHD: an open-source, user-friendly GRMHD code for dynamical spacetimes. Class. Quantum Grav. 32 (2015) 175009. ([arxiv:1501.07276](http://arxiv.org/abs/1501.07276)).\n",
    "* **(Required)** Noble, S. C., Gammie, C. F., McKinney, J. C., Del Zanna, L. Primitive Variable Solvers for Conservative General Relativistic Magnetohydrodynamics. Astrophysical Journal, 641, 626 (2006) ([astro-ph/0512420](https://arxiv.org/abs/astro-ph/0512420)).\n",
    "* **(Recommended)** Del Zanna, L., Bucciantini N., Londrillo, P. An efficient shock-capturing central-type scheme for multidimensional relativistic flows - II. Magnetohydrodynamics. A&A 400 (2) 397-413 (2003). DOI: 10.1051/0004-6361:20021641 ([astro-ph/0210618](https://arxiv.org/abs/astro-ph/0210618))."
   ]
  },
  {
   "cell_type": "markdown",
   "metadata": {},
   "source": [
    "<a id='toc'></a>\n",
    "\n",
    "# Table of Contents\n",
    "$$\\label{toc}$$\n",
    "\n",
    "This module is organized as follows\n",
    "\n",
    "1. [Step 1](#introduction): **Introduction**\n",
    "1. [Step 2](#enforce_limits_on_primitives_and_compute_u0): **The `enforce_limits_on_primitives_and_compute_u0` function**\n",
    "    1. [Step 2.a](#enforce_limits_on_primitives): *Enforcing physical limits on the primitive variables*\n",
    "        1. [Step 2.a.i](#hybrid_EOS_limits): *Limits for the Hybrid EOS*\n",
    "        1. [Step 2.a.ii](#tabulated_EOS_limits): *Limits for the Tabulated EOS*\n",
    "    1. [Step 2.b](#speed_limit_v): *Speed limit $v^i$ and compute $u^0$*\n",
    "1. [Step 3](#latex_pdf_output): **Output this notebook to $\\LaTeX$-formatted PDF file**"
   ]
  },
  {
   "cell_type": "markdown",
   "metadata": {},
   "source": [
    "<a id='introduction'></a>\n",
    "\n",
    "# Step 1: Introduction \\[Back to [top](#toc)\\]\n",
    "$$\\label{introduction}$$\n",
    "\n",
    "In this tutorial notebook we discuss how we adjust the primitive variables to enforce simulation limits after the primitives have been computed by a conservative-to-primitive routine.\n",
    "\n",
    "This function is usually used immediately after the new primitives have been computed, either by atmospheric reset or a conservative-to-primitive routine (e.g. TODO: link to multimethod). The outputs for this are also chosen so that the `compute_conservs_and_Tmunu` function can run afterwards with minimal additional computation."
   ]
  },
  {
   "cell_type": "markdown",
   "metadata": {},
   "source": [
    "<a id='enforce_limits_on_primitives_and_compute_u0'></a>\n",
    "\n",
    "# Step 2: `enforce_limits_on_primitives_and_compute_u0` function \\[Back to [top](#toc)\\]\n",
    "$$\\label{enforce_limits_on_primitives_and_compute_u0}$$\n",
    "\n",
    "First, let's look at the arguments of `enforce_primitive_limits_and_output_u0`:\n",
    "```\n",
    "void enforce_primitive_limits_and_output_u0(\n",
    "      const GRHayL_parameters *restrict params,\n",
    "      const eos_parameters *restrict eos,\n",
    "      const metric_quantities *restrict metric,\n",
    "      primitive_quantities *restrict prims,\n",
    "      double *restrict u0,\n",
    "      con2prim_diagnostics *restrict diagnostics)\n",
    "```\n",
    "The first two arguments appear in most GRHayL functions and contain information on the simulation and equation-of-state parameters. The next struct contains (pointwise) information on the metric. Whenever packing the metric struct, we recommend using the function `GRHayL_enforce_detgtij_and_initialize_metric`, which also enforces that the determinant of the conformal metric equals one. GRHayL functions may behave unpredictably with abnormal metrics, as they have not been tested as rigorously outside the expected input ranges. The final input is the primitive_quantities that the limits will be applied to.\n",
    "\n",
    "The outputs are a primitive_quantities struct containing the primitives that have had floor and ceiling limits applied. In addition, the con2prim_diagnostics struct tracks whether any of the inequalities were initially violated."
   ]
  },
  {
   "cell_type": "markdown",
   "metadata": {},
   "source": [
    "<a id='enforce_limits_on_primitives'></a>\n",
    "\n",
    "## Step 2.a: Enforcing physical limits on the primitive variables \\[Back to [top](#toc)\\]\n",
    "$$\\label{enforce_limits_on_primitives}$$\n",
    "\n",
    "We first apply the simplest limits by enforcing that\n",
    "$$\\rho_\\mathrm{min} <= \\rho_b <= \\rho_\\mathrm{max}$$"
   ]
  },
  {
   "cell_type": "markdown",
   "metadata": {},
   "source": [
    "<a id='hybrid_EOS_limits'></a>\n",
    "\n",
    "### Step 2.a.i: Limits for the Hybrid EOS \\[Back to [top](#toc)\\]\n",
    "$$\\label{hybrid_EOS_limits}$$\n",
    "\n",
    "We then apply the limits on pressure. Since hybrid and tabulated EOS require different treatment, the code splits between the two. For hybrid EOS, the pressure is floored to\n",
    "$$P = 0.9*P_\\mathrm{min}$$\n",
    "if\n",
    "$$P < 0.9*P_\\mathrm{cold}$$\n",
    "The factor of 0.9 helps with stability, as setting the condition to be exactly at P_cold can cause undesirable increases in the star pressure that behave better by allowing the pressure to fall slightly below P_cold.\n",
    "\n",
    "On the other end, the upper limit depends on the metric. If $\\psi^6$ is greater than the GRHayL parameter $\\psi^6_\\mathrm{threshold}$, then\n",
    "$$P_\\mathrm{max} = 1e5*P_\\mathrm{cold}$$\n",
    "Otherwise,\n",
    "$$P_\\mathrm{max} = 100*P_\\mathrm{cold}$$\n",
    "Then,\n",
    "$$P = P_\\mathrm{max}$$\n",
    "if\n",
    "$$P>P_\\mathrm{max}~\\mathrm{and~either}~\\rho<100*\\rho_{atm}~\\mathrm{or}~\\psi^6 > \\psi^6_\\mathrm{threshold}$$"
   ]
  },
  {
   "cell_type": "markdown",
   "metadata": {},
   "source": [
    "<a id='tabulated_EOS_limits'></a>\n",
    "\n",
    "### Step 2.a.ii: Limits for the Tabulated EOS \\[Back to [top](#toc)\\]\n",
    "$$\\label{tabulated_EOS_limits}$$\n",
    "\n",
    "TODO: Tabulated isn't in yet!"
   ]
  },
  {
   "cell_type": "markdown",
   "metadata": {},
   "source": [
    "<a id='speed_limit_v'></a>\n",
    "\n",
    "## Step 2.b: Speed limit $v^i$ and compute $u^0$ \\[Back to [top](#toc)\\]\n",
    "$$\\label{speed_limit_v}$$\n",
    "\n",
    "Finally, we use the `limit_v_and_output_u0` function to speed limit $v^i$. This function also computes u0, which is one of this function's outputs. To see this function, please see \n",
    "TODO: link to nb"
   ]
  },
  {
   "cell_type": "markdown",
   "metadata": {},
   "source": [
    "<a id='latex_pdf_output'></a>\n",
    "\n",
    "# Step 3: Output this notebook to $\\LaTeX$-formatted PDF file \\[Back to [top](#toc)\\]\n",
    "$$\\label{latex_pdf_output}$$\n",
    "\n",
    "The following code cell converts this Jupyter notebook into a proper, clickable $\\LaTeX$-formatted PDF file. After the cell is successfully run, the generated PDF may be found in the root NRPy+ tutorial directory, with filename\n",
    "[Tutorial-IllinoisGRMHD__apply_tau_floor__enforce_limits_on_primitives_and_recompute_conservs.pdf](Tutorial-IllinoisGRMHD__apply_tau_floor__enforce_limits_on_primitives_and_recompute_conservs.pdf) (Note that clicking on this link may not work; you may need to open the PDF file through another means)."
   ]
  },
  {
   "cell_type": "raw",
   "metadata": {},
   "source": [
    "latex_nrpy_style_path = os.path.join(nrpy_dir_path,\"latex_nrpy_style.tplx\")\n",
    "#!jupyter nbconvert --to latex --template $latex_nrpy_style_path --log-level='WARN' Tutorial-IllinoisGRMHD__apply_tau_floor__enforce_limits_on_primitives_and_recompute_conservs.ipynb\n",
    "#!pdflatex -interaction=batchmode Tutorial-IllinoisGRMHD__apply_tau_floor__enforce_limits_on_primitives_and_recompute_conservs.tex\n",
    "#!pdflatex -interaction=batchmode Tutorial-IllinoisGRMHD__apply_tau_floor__enforce_limits_on_primitives_and_recompute_conservs.tex\n",
    "#!pdflatex -interaction=batchmode Tutorial-IllinoisGRMHD__apply_tau_floor__enforce_limits_on_primitives_and_recompute_conservs.tex\n",
    "!rm -f Tut*.out Tut*.aux Tut*.log"
   ]
  }
 ],
 "metadata": {
  "kernelspec": {
   "display_name": "Python 3 (ipykernel)",
   "language": "python",
   "name": "python3"
  },
  "language_info": {
   "codemirror_mode": {
    "name": "ipython",
    "version": 3
   },
   "file_extension": ".py",
   "mimetype": "text/x-python",
   "name": "python",
   "nbconvert_exporter": "python",
   "pygments_lexer": "ipython3",
   "version": "3.10.4"
  }
 },
 "nbformat": 4,
 "nbformat_minor": 2
}
