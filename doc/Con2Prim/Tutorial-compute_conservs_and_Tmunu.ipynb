{
 "cells": [
  {
   "cell_type": "markdown",
   "metadata": {},
   "source": [
    "<script async src=\"https://www.googletagmanager.com/gtag/js?id=UA-59152712-8\"></script>\n",
    "<script>\n",
    "  window.dataLayer = window.dataLayer || [];\n",
    "  function gtag(){dataLayer.push(arguments);}\n",
    "  gtag('js', new Date());\n",
    "\n",
    "  gtag('config', 'UA-59152712-8');\n",
    "</script>\n",
    "\n",
    "# Tutorial: compute_conservs_and_Tmunu.c\n",
    "\n",
    "## Authors: Leo Werneck, Zach Etienne, and Samuel Cupp\n",
    "\n",
    "<font color='red'>**This module is currently under development**</font>\n",
    "\n",
    "## In this tutorial module we explain the function `compute_conservs_and_Tmunu`. This function uses primitives to compute the conservative quantities and stress energy tensor $T_{\\mu\\nu}$.\n",
    "\n",
    "### Required and recommended citations:\n",
    "* **(Required)** Etienne, Z. B., Paschalidis, V., Haas R., Mösta P., and Shapiro, S. L. IllinoisGRMHD: an open-source, user-friendly GRMHD code for dynamical spacetimes. Class. Quantum Grav. 32 (2015) 175009. ([arxiv:1501.07276](http://arxiv.org/abs/1501.07276)).\n",
    "* **(Required)** Noble, S. C., Gammie, C. F., McKinney, J. C., Del Zanna, L. Primitive Variable Solvers for Conservative General Relativistic Magnetohydrodynamics. Astrophysical Journal, 641, 626 (2006) ([astro-ph/0512420](https://arxiv.org/abs/astro-ph/0512420)).\n",
    "* **(Recommended)** Del Zanna, L., Bucciantini N., Londrillo, P. An efficient shock-capturing central-type scheme for multidimensional relativistic flows - II. Magnetohydrodynamics. A&A 400 (2) 397-413 (2003). DOI: 10.1051/0004-6361:20021641 ([astro-ph/0210618](https://arxiv.org/abs/astro-ph/0210618))."
   ]
  },
  {
   "cell_type": "markdown",
   "metadata": {},
   "source": [
    "<a id='toc'></a>\n",
    "\n",
    "# Table of Contents\n",
    "$$\\label{toc}$$\n",
    "\n",
    "This module is organized as follows\n",
    "\n",
    "1. [Step 1](#introduction): **Introduction**\n",
    "1. [Step 2](#compute_conservs_and_Tmunu): **The `compute_conservs_and_Tmunu` function**\n",
    "1. [Step 3](#latex_pdf_output): **Output this notebook to $\\LaTeX$-formatted PDF file**"
   ]
  },
  {
   "cell_type": "markdown",
   "metadata": {},
   "source": [
    "<a id='introduction'></a>\n",
    "\n",
    "# Step 1: Introduction \\[Back to [top](#toc)\\]\n",
    "$$\\label{introduction}$$\n",
    "\n",
    "In this tutorial notebook we discuss our code for computing the conservatives and stress-energy tensor $T_{\\mu\\nu}$. This is usually used after the conservative-to-primitive routine and `enforce_primitive_limits_and_output_u0` have run to ensure these quantities are consistent with the newly computed primitives."
   ]
  },
  {
   "cell_type": "markdown",
   "metadata": {},
   "source": [
    "<a id='compute_conservs_and_Tmunu'></a>\n",
    "\n",
    "# Step 2: The `compute_conservs_and_Tmunu` function \\[Back to [top](#toc)\\]\n",
    "$$\\label{compute_conservs_and_Tmunu}$$\n",
    "\n",
    "\n",
    "First, let's look at the arguments of `compute_conservs_and_Tmunu`:\n",
    "```\n",
    "void compute_conservs_and_Tmunu(\n",
    "      const GRHayL_parameters *restrict params,\n",
    "      const eos_parameters *restrict eos,\n",
    "      const metric_quantities *restrict metric,\n",
    "      const primitive_quantities *restrict prims,\n",
    "      const double u0,\n",
    "      conservative_quantities *restrict cons,\n",
    "      stress_energy *restrict Tmunu)\n",
    "```\n",
    "The first two arguments appear in most GRHayL functions and contain information on the simulation and equation-of-state parameters. The next struct contains (pointwise) information on the metric. Whenever packing the metric struct, we recommend using the function `GRHayL_enforce_detgtij_and_initialize_metric`, which also enforces that the determinant of the conformal metric equals one. GRHayL functions may behave unpredictably with abnormal metrics, as they have not been tested as rigorously outside the expected input ranges. The final inputs are the primitives and the 0th component of the 4-velocity $u^0$.\n",
    "\n",
    "The outputs are the conservatives and $T_{\\mu\\nu}$.\n",
    "\n",
    "To compute the conservatives, we first compute a handful of intermediate quantities. We compute the enthalpy from epsilon, the pressure, and baryonic density. We have $u^0$ as an input, and we compute $u^i$ from $v^i$. We use the helper function `lower_vector` to find $u_\\mu$. We then compute\n",
    "$$b^\\mu\\equiv \\frac{B^i_u}{\\sqrt{4 pi}}$$\n",
    "and $b^2$, where $B^i_u$ is defined in Eq. 24 in http://arxiv.org/pdf/astro-ph/0503420.pdf.\n",
    "\n",
    "TODO: add to citations at top\n",
    "\n",
    "These are computed using the function `compute_smallb_and_b2`.\n",
    "\n",
    "We also compute $b_\\mu$, again using `lower_vector`. We precompute some quantities which are used multiple times.\n",
    "\n",
    "We're now ready to compute the conservatives. These are given by the equations\n",
    "$$\\tilde{\\rho} = \\alpha\\sqrt{\\gamma} \\rho_b u^0$$\n",
    "$$\\tilde{S}_i = h \\tilde{\\rho} u_i + \\alpha\\sqrt{\\gamma} \\left( u^0 b^2 u_i - b^0 b_i \\right)$$\n",
    "$$\\tilde{\\tau} = \\alpha^2\\sqrt{\\gamma}\\left( (\\rho_b h + b^2)\\left(u^0\\right)^2 - \\frac{\\left(P+\\frac{b^2}{2}\\right)}{\\alpha^2} - \\left(b^0\\right)^2 - \\tilde{\\rho} \\right)$$\n",
    "where $h$ is the enthalpy.\n",
    "\n",
    "Reusing many intermediate quantities, the stress-energy tensor is given by\n",
    "$$T^{\\mu\\nu} = (\\rho_b h + b^2)u_\\mu u_\\nu + \\left(P+\\frac{b^2}{2}\\right)g_{\\mu\\nu} -b_\\mu b_\\nu$$"
   ]
  },
  {
   "cell_type": "markdown",
   "metadata": {},
   "source": [
    "<a id='latex_pdf_output'></a>\n",
    "\n",
    "# Step 3: Output this notebook to $\\LaTeX$-formatted PDF file \\[Back to [top](#toc)\\]\n",
    "$$\\label{latex_pdf_output}$$\n",
    "\n",
    "The following code cell converts this Jupyter notebook into a proper, clickable $\\LaTeX$-formatted PDF file. After the cell is successfully run, the generated PDF may be found in the root NRPy+ tutorial directory, with filename\n",
    "[Tutorial-IllinoisGRMHD__apply_tau_floor__enforce_limits_on_primitives_and_recompute_conservs.pdf](Tutorial-IllinoisGRMHD__apply_tau_floor__enforce_limits_on_primitives_and_recompute_conservs.pdf) (Note that clicking on this link may not work; you may need to open the PDF file through another means)."
   ]
  },
  {
   "cell_type": "markdown",
   "metadata": {},
   "source": [
    "latex_nrpy_style_path = os.path.join(nrpy_dir_path,\"latex_nrpy_style.tplx\")\n",
    "#!jupyter nbconvert --to latex --template $latex_nrpy_style_path --log-level='WARN' Tutorial-IllinoisGRMHD__apply_tau_floor__enforce_limits_on_primitives_and_recompute_conservs.ipynb\n",
    "#!pdflatex -interaction=batchmode Tutorial-IllinoisGRMHD__apply_tau_floor__enforce_limits_on_primitives_and_recompute_conservs.tex\n",
    "#!pdflatex -interaction=batchmode Tutorial-IllinoisGRMHD__apply_tau_floor__enforce_limits_on_primitives_and_recompute_conservs.tex\n",
    "#!pdflatex -interaction=batchmode Tutorial-IllinoisGRMHD__apply_tau_floor__enforce_limits_on_primitives_and_recompute_conservs.tex\n",
    "!rm -f Tut*.out Tut*.aux Tut*.log"
   ]
  }
 ],
 "metadata": {
  "kernelspec": {
   "display_name": "Python 3 (ipykernel)",
   "language": "python",
   "name": "python3"
  },
  "language_info": {
   "codemirror_mode": {
    "name": "ipython",
    "version": 3
   },
   "file_extension": ".py",
   "mimetype": "text/x-python",
   "name": "python",
   "nbconvert_exporter": "python",
   "pygments_lexer": "ipython3",
   "version": "3.10.4"
  }
 },
 "nbformat": 4,
 "nbformat_minor": 2
}
